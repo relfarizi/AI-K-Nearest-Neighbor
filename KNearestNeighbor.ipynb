{
  "nbformat": 4,
  "nbformat_minor": 0,
  "metadata": {
    "colab": {
      "name": "Source_code_Tugas@A!_1301160792.ipynb",
      "provenance": [],
      "collapsed_sections": []
    },
    "kernelspec": {
      "name": "python3",
      "display_name": "Python 3"
    }
  },
  "cells": [
    {
      "cell_type": "markdown",
      "metadata": {
        "id": "Vx6c3D2eTuJd",
        "colab_type": "text"
      },
      "source": [
        "mengambil data yang akan diolah"
      ]
    },
    {
      "cell_type": "code",
      "metadata": {
        "id": "WwwnsO7xTwla",
        "colab_type": "code",
        "colab": {}
      },
      "source": [
        "import pandas as pd\n",
        "import operator\n",
        "\n",
        "def get_data(type_of_data):\n",
        "  \n",
        "  link_data_train = 'https://drive.google.com/uc?export=download&id=1q3S6jc6StrGjHcG-LF59lTL7zyD8j8X6'\n",
        "  link_data_test = 'https://drive.google.com/uc?export=download&id=1NEVkRafyjIbD3e-vJwu8DTW4_lcf-CJp'\n",
        "  \n",
        "  if type_of_data == 'datatrain':\n",
        "    data = pd.read_csv(link_data_train)\n",
        "  elif type_of_data == 'datatest':\n",
        "    data = pd.read_csv(link_data_test)\n",
        "  else:\n",
        "    data = \"file \" +type_of_data+ \" not found\"\n",
        "  return data\n",
        "data_train=get_data('datatrain')\n",
        "data_test=get_data('datatest')"
      ],
      "execution_count": null,
      "outputs": []
    },
    {
      "cell_type": "markdown",
      "metadata": {
        "id": "Vbq_oAlHUMg0",
        "colab_type": "text"
      },
      "source": [
        "# KNN"
      ]
    },
    {
      "cell_type": "markdown",
      "metadata": {
        "id": "L88LnDeuUZ5X",
        "colab_type": "text"
      },
      "source": [
        "untuk mencari jarak terkecil"
      ]
    },
    {
      "cell_type": "code",
      "metadata": {
        "id": "kY8Gha5LULbq",
        "colab_type": "code",
        "colab": {}
      },
      "source": [
        "import numpy as np\n",
        "def formula_euclidean(x,y):\n",
        "  value = (x-y)**2\n",
        "  return value\n",
        "  \n",
        "def euclidean(dataA, dataB, length):\n",
        "    distance = 0\n",
        "    for i in range(length):\n",
        "        distance += formula_euclidean(float(dataA[i]),float(dataB[i]))\n",
        "        value = np.sqrt(distance)\n",
        "    return value"
      ],
      "execution_count": null,
      "outputs": []
    },
    {
      "cell_type": "markdown",
      "metadata": {
        "id": "f0wXk_jbVZRh",
        "colab_type": "text"
      },
      "source": [
        "KNN"
      ]
    },
    {
      "cell_type": "code",
      "metadata": {
        "id": "2xRyf8DSVawT",
        "colab_type": "code",
        "colab": {}
      },
      "source": [
        "def k_nearest_neighbors(data_validation, data_test_train, k):\n",
        "    list_of_distance = []\n",
        "    \n",
        "    for x in range(len(data_validation[0])):\n",
        "        distance = euclidean(data_validation[0][x], data_test_train, len(data_validation[0][x]))\n",
        "        list_of_distance.append((data_validation[0][x], distance, data_validation[1][x]))\n",
        "\n",
        "    list_of_distance.sort(key=operator.itemgetter(1))    \n",
        "    list_of_neighbor = []\n",
        "\n",
        "    for x in range(k):\n",
        "        list_of_neighbor.append((list_of_distance[x][1], list_of_distance[x][2]))\n",
        "    return list_of_neighbor        \n"
      ],
      "execution_count": null,
      "outputs": []
    },
    {
      "cell_type": "markdown",
      "metadata": {
        "id": "u8oIfcrSVz1Q",
        "colab_type": "text"
      },
      "source": [
        "mencari nilai k terbaik"
      ]
    },
    {
      "cell_type": "code",
      "metadata": {
        "id": "3ajde-ORWnlB",
        "colab_type": "code",
        "colab": {}
      },
      "source": [
        "def best_of_k(data_train):\n",
        "    list_of_k = []\n",
        "    k_current = 3\n",
        "    k_value = 20\n",
        "    list_of_accuracy = []\n",
        "    list_of_prediction = []\n",
        "    for k in range(k_current,k_value,2):\n",
        "        #print(\"k = \",k)\n",
        "        for x in range(len(data_train[0])):\n",
        "            data_test_train = data_train[0][x]\n",
        "            prediction = class_of_classification(k_nearest_neighbors(data_train, data_test_train, k))\n",
        "            list_of_prediction.append(prediction)\n",
        "        accuracy = accuracy_cek(data_train[1], list_of_prediction)\n",
        "        list_of_accuracy.append(accuracy)    \n",
        "        list_of_k.append(k)\n",
        "        list_of_prediction = []\n",
        "        #print(\"akurasi\", accuracy)\n",
        "    index = list_of_accuracy.index(max(list_of_accuracy))\n",
        "    print(\"nilai k terbaik = \", k)\n",
        "    print(\"akurasi = \",list_of_accuracy[index])\n",
        "    return k\n",
        "         \n",
        "   \n",
        "    "
      ],
      "execution_count": null,
      "outputs": []
    },
    {
      "cell_type": "markdown",
      "metadata": {
        "id": "M3ObImJ3WoKN",
        "colab_type": "text"
      },
      "source": [
        "menentukan kelas pada data"
      ]
    },
    {
      "cell_type": "code",
      "metadata": {
        "id": "OLIUVEKpV0G3",
        "colab_type": "code",
        "colab": {}
      },
      "source": [
        "def class_of_classification(neighbor):\n",
        "    vote_class = {}\n",
        "    for x in range(len(neighbor)):\n",
        "        response = neighbor[x][-1]\n",
        "        if response in vote_class:\n",
        "            vote_class[response] += 1\n",
        "        else:\n",
        "            vote_class[response] = 1\n",
        "    list_of_vote = sorted(vote_class.items(), key=operator.itemgetter(1),reverse=True)\n",
        "    return list_of_vote [0][0]"
      ],
      "execution_count": null,
      "outputs": []
    },
    {
      "cell_type": "markdown",
      "metadata": {
        "id": "zahmIWBPV4TU",
        "colab_type": "text"
      },
      "source": [
        "mengecek akurasi"
      ]
    },
    {
      "cell_type": "code",
      "metadata": {
        "id": "TpMKt9pPV4m8",
        "colab_type": "code",
        "colab": {}
      },
      "source": [
        "def accuracy_cek(y_target, y_predict):\n",
        "    sum_of_true = 0\n",
        "    for x in range(len(y_predict)):\n",
        "        if y_target[x] == y_predict[x]:\n",
        "            sum_of_true += 1\n",
        "    return (sum_of_true/float(len(y_target)))*100\n"
      ],
      "execution_count": null,
      "outputs": []
    },
    {
      "cell_type": "markdown",
      "metadata": {
        "id": "ZM9-pwghWEaq",
        "colab_type": "text"
      },
      "source": [
        "memunculkan nilai k terbaik"
      ]
    },
    {
      "cell_type": "code",
      "metadata": {
        "id": "Z0B_W9f_wVef",
        "colab_type": "code",
        "colab": {}
      },
      "source": [
        "def find_best_of_k(data_train):\n",
        "  list_of_attribute = []        \n",
        "  list_of_class = []\n",
        "  for index, row in data_train.iterrows():\n",
        "      list_of_attribute.append([row['atribut 1'], row['atribut 2'], row['atribut 3'], row['atribut 4']])\n",
        "      list_of_class.append(row['kelas'])\n",
        "  list_of_data_train = [list_of_attribute, list_of_class]\n",
        "  valid_data = [list_of_data_train[0][:4000], list_of_data_train[1][:4000]]\n",
        "  valid_test = [list_of_data_train[0][:4000], list_of_data_train[1][:4000]]\n",
        "  k = best_of_k(valid_data)\n",
        "  return k"
      ],
      "execution_count": null,
      "outputs": []
    },
    {
      "cell_type": "markdown",
      "metadata": {
        "id": "Bk4HxW12xEvG",
        "colab_type": "text"
      },
      "source": [
        "menguji data test"
      ]
    },
    {
      "cell_type": "code",
      "metadata": {
        "id": "dbqc3hOexP7i",
        "colab_type": "code",
        "colab": {}
      },
      "source": [
        "from google.colab import files\n",
        "\n",
        "def classification_of_data_test(k):\n",
        "  list_of_attribute = []        \n",
        "  list_of_class = []\n",
        "  \n",
        "  for index, row in data_train.iterrows():\n",
        "      list_of_attribute.append([row['atribut 1'], row['atribut 2'], row['atribut 3'], row['atribut 4']])\n",
        "      list_of_class.append(row['kelas'])\n",
        "  list_of_data_train = [list_of_attribute, list_of_class]\n",
        "  \n",
        "  for index, row in data_test.iterrows():\n",
        "      list_of_attribute.append([row['atribut 1'], row['atribut 2'], row['atribut 3'], row['atribut 4']])\n",
        "      list_of_class.append(row['kelas'])\n",
        "  list_od_data_test = [list_of_attribute, list_of_class]\n",
        "\n",
        "  valid_data = [list_of_data_train[0][:4000], list_of_data_train[1][:4000]]\n",
        "  predict_test = [list_od_data_test[0][:1000], list_od_data_test[1][:1000]]\n",
        "  list_of_prediction = []\n",
        "\n",
        "  for x in range(len(predict_test[0])):\n",
        "      data_test_train = predict_test[0][x]\n",
        "      predict = class_of_classification(k_nearest_neighbors(valid_data, data_test_train, k))\n",
        "      list_of_prediction.append(predict)\n",
        " \n",
        " \n",
        "  list_of_predictions=list(map(int,list_of_prediction))\n",
        "  print(list_of_predictions.index)\n",
        "  atribut= predict_test[0]\n",
        "  result_predict = { 'attribute': atribut , 'kelas': list_of_predictions}\n",
        "  df = pd.DataFrame(result_predict)\n",
        "  df.to_csv('prediksi_Tugas2AI_1301160792.csv')\n",
        "  files.download('prediksi_Tugas2AI_1301160792.csv')\n"
      ],
      "execution_count": null,
      "outputs": []
    },
    {
      "cell_type": "markdown",
      "metadata": {
        "id": "9kwj9cRUxp-Z",
        "colab_type": "text"
      },
      "source": [
        "pemanggilan fungsi dan mengunduh file .csv"
      ]
    },
    {
      "cell_type": "markdown",
      "metadata": {
        "id": "Bwtf1rfvWb4l",
        "colab_type": "text"
      },
      "source": [
        "pemanggilan fungsi"
      ]
    },
    {
      "cell_type": "code",
      "metadata": {
        "id": "EWwFd2clRwzQ",
        "colab_type": "code",
        "colab": {
          "base_uri": "https://localhost:8080/",
          "height": 68
        },
        "outputId": "0cee3b07-7e40-4801-d4fc-82991e008031"
      },
      "source": [
        "classification_of_data_test(find_best_of_k(data_train))"
      ],
      "execution_count": null,
      "outputs": [
        {
          "output_type": "stream",
          "text": [
            "nilai k terbaik =  19\n",
            "akurasi =  78.57499999999999\n",
            "<built-in method index of list object at 0x7f01b63c5748>\n"
          ],
          "name": "stdout"
        }
      ]
    },
    {
      "cell_type": "code",
      "metadata": {
        "id": "f7ZsWadI134s",
        "colab_type": "code",
        "colab": {}
      },
      "source": [
        ""
      ],
      "execution_count": null,
      "outputs": []
    }
  ]
}